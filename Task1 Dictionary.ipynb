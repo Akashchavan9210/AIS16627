{
 "cells": [
  {
   "cell_type": "code",
   "execution_count": 1,
   "id": "b733b5fc-917c-415d-8b6e-77a227dcdd2e",
   "metadata": {},
   "outputs": [
    {
     "name": "stdout",
     "output_type": "stream",
     "text": [
      "{'brand': 'Ford', 'model': 'Mustang', 'year': 1964}\n"
     ]
    }
   ],
   "source": [
    "#Dictionary\n",
    "#Dictionaries are used to store data values in key:value pairs.\n",
    "#A dictionary is a collection which is ordered*, changeable and do not allow duplicates.\n",
    "\n",
    "#Example\n",
    "\n",
    "thisdict = {\n",
    "  \"brand\": \"Ford\",\n",
    "  \"model\": \"Mustang\",\n",
    "  \"year\": 1964\n",
    "}\n",
    "print(thisdict)"
   ]
  },
  {
   "cell_type": "code",
   "execution_count": 2,
   "id": "be72c2da-134d-4537-9e3a-9829253972a4",
   "metadata": {},
   "outputs": [
    {
     "name": "stdout",
     "output_type": "stream",
     "text": [
      "Ford\n"
     ]
    }
   ],
   "source": [
    "#Dictionary Items\n",
    "#Dictionary items are ordered, changeable, and do not allow duplicates.\n",
    "#Dictionary items are presented in key:value pairs, and can be referred to by using the key name.\n",
    "\n",
    "#Example\n",
    "#Print the \"brand\" value of the dictionary:\n",
    "\n",
    "thisdict = {\n",
    "  \"brand\": \"Ford\",\n",
    "  \"model\": \"Mustang\",\n",
    "  \"year\": 1964\n",
    "}\n",
    "print(thisdict[\"brand\"])"
   ]
  },
  {
   "cell_type": "code",
   "execution_count": 3,
   "id": "9a2a5d44-afa4-42cb-98ce-d5e0337a9f4f",
   "metadata": {},
   "outputs": [
    {
     "name": "stdout",
     "output_type": "stream",
     "text": [
      "{'brand': 'Ford', 'model': 'Mustang', 'year': 2020}\n"
     ]
    }
   ],
   "source": [
    "#Ordered or Unordered?\n",
    "\n",
    "#When we say that dictionaries are ordered, it means that the items have a defined order, and that order will not change.\n",
    "#Unordered means that the items do not have a defined order, you cannot refer to an item by using an index.\n",
    "\n",
    "#Changeable\n",
    "#Dictionaries are changeable, meaning that we can change, add or remove items after the dictionary has been created.\n",
    "\n",
    "#Duplicates Not Allowed\n",
    "#Dictionaries cannot have two items with the same key:\n",
    "\n",
    "#Example\n",
    "#Duplicate values will overwrite existing values:\n",
    "\n",
    "thisdict = {\n",
    "  \"brand\": \"Ford\",\n",
    "  \"model\": \"Mustang\",\n",
    "  \"year\": 1964,\n",
    "  \"year\": 2020\n",
    "}\n",
    "print(thisdict)"
   ]
  },
  {
   "cell_type": "code",
   "execution_count": 5,
   "id": "18035d05-f697-4cdf-b52a-6f337a028614",
   "metadata": {},
   "outputs": [
    {
     "data": {
      "text/plain": [
       "3"
      ]
     },
     "execution_count": 5,
     "metadata": {},
     "output_type": "execute_result"
    }
   ],
   "source": [
    "#Dictionary Length\n",
    "#To determine how many items a dictionary has, use the len() function:\n",
    "\n",
    "#Example\n",
    "#Print the number of items in the dictionary:\n",
    "\n",
    "len(thisdict)"
   ]
  },
  {
   "cell_type": "code",
   "execution_count": 8,
   "id": "2e1d6497-eeec-424c-8744-08904f836f79",
   "metadata": {},
   "outputs": [],
   "source": [
    "#Dictionary Items - Data Types\n",
    "#The values in dictionary items can be of any data type:\n",
    "\n",
    "#Example\n",
    "#String, int, boolean, and list data types:\n",
    "\n",
    "thisdict = {\n",
    "  \"brand\": \"Ford\",\n",
    "  \"electric\": False,\n",
    "  \"year\": 1964,\n",
    "  \"colors\": [\"red\", \"white\", \"blue\"]\n",
    "}"
   ]
  },
  {
   "cell_type": "code",
   "execution_count": 9,
   "id": "7cef0b94-938c-4d6f-8436-ba0c6f0baf87",
   "metadata": {},
   "outputs": [
    {
     "data": {
      "text/plain": [
       "dict"
      ]
     },
     "execution_count": 9,
     "metadata": {},
     "output_type": "execute_result"
    }
   ],
   "source": [
    "#type()\n",
    "#From Python's perspective, dictionaries are defined as objects with the data type 'dict':\n",
    "\n",
    "#Example\n",
    "thisdict = {\n",
    "  \"brand\": \"Ford\",\n",
    "  \"model\": \"Mustang\",\n",
    "  \"year\": 1964\n",
    "}\n",
    "type(thisdict)"
   ]
  },
  {
   "cell_type": "code",
   "execution_count": 10,
   "id": "a3fd2ed6-4099-4994-8744-cabf526f6048",
   "metadata": {},
   "outputs": [
    {
     "name": "stdout",
     "output_type": "stream",
     "text": [
      "{'name': 'John', 'age': 36, 'country': 'Norway'}\n"
     ]
    }
   ],
   "source": [
    "#The dict() Constructor\n",
    "#It is also possible to use the dict() constructor to make a dictionary.\n",
    "\n",
    "#Example\n",
    "\n",
    "thisdict = dict(name = \"John\", age = 36, country = \"Norway\")\n",
    "print(thisdict)"
   ]
  }
 ],
 "metadata": {
  "kernelspec": {
   "display_name": "Python 3 (ipykernel)",
   "language": "python",
   "name": "python3"
  },
  "language_info": {
   "codemirror_mode": {
    "name": "ipython",
    "version": 3
   },
   "file_extension": ".py",
   "mimetype": "text/x-python",
   "name": "python",
   "nbconvert_exporter": "python",
   "pygments_lexer": "ipython3",
   "version": "3.11.7"
  }
 },
 "nbformat": 4,
 "nbformat_minor": 5
}
