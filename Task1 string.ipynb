{
 "cells": [
  {
   "cell_type": "markdown",
   "id": "cd6eb458-76c1-4857-8bce-b447828e69ae",
   "metadata": {},
   "source": [
    "# "
   ]
  },
  {
   "cell_type": "code",
   "execution_count": 1,
   "id": "48ee5d01-c665-497b-89c9-63b8f1e339d1",
   "metadata": {},
   "outputs": [
    {
     "name": "stdout",
     "output_type": "stream",
     "text": [
      "Hello\n",
      "Hello\n"
     ]
    }
   ],
   "source": [
    "#Python Strings\n",
    "#Strings in python are surrounded by either single quotation marks, or double quotation marks.\n",
    "#'hello' is the same as \"hello\".\n",
    "#You can display a string literal with the print() function:\n",
    "\n",
    "#Example\n",
    "print(\"Hello\")\n",
    "print('Hello')"
   ]
  },
  {
   "cell_type": "code",
   "execution_count": 3,
   "id": "c77859d4-0a6c-4eee-9d2a-83339b33214e",
   "metadata": {},
   "outputs": [
    {
     "name": "stdout",
     "output_type": "stream",
     "text": [
      "It's alright\n",
      "He is called 'Akash'\n",
      "He is called \"Akash\"\n"
     ]
    }
   ],
   "source": [
    "#Quotes Inside Quotes\n",
    "#You can use quotes inside a string, as long as they don't match the quotes surrounding the string:\n",
    "\n",
    "#Example\n",
    "print(\"It's alright\")\n",
    "print(\"He is called 'Akash'\")\n",
    "print('He is called \"Akash\"')"
   ]
  },
  {
   "cell_type": "code",
   "execution_count": 4,
   "id": "2a0cb57a-7a3d-4932-8db2-ed4c2600fc64",
   "metadata": {},
   "outputs": [
    {
     "name": "stdout",
     "output_type": "stream",
     "text": [
      "Hello\n"
     ]
    }
   ],
   "source": [
    "#Assign String to a Variable\n",
    "#Assigning a string to a variable is done with the variable name followed by an equal sign and the string:\n",
    "\n",
    "#Example\n",
    "a = \"Hello\"\n",
    "print(a)"
   ]
  },
  {
   "cell_type": "code",
   "execution_count": 9,
   "id": "b62bf861-a407-4322-baa2-7152ffb458de",
   "metadata": {},
   "outputs": [
    {
     "name": "stdout",
     "output_type": "stream",
     "text": [
      "Lorem ipsum dolor sit amet,\n",
      "consectetur adipiscing elit,\n",
      "sed do eiusmod tempor incididunt\n",
      "ut labore et dolore magna aliqua.\n"
     ]
    }
   ],
   "source": [
    "#Multiline Strings\n",
    "#You can assign a multiline string to a variable by using three quotes:\n",
    "\n",
    "#Example\n",
    "\n",
    "a = \"\"\"Lorem ipsum dolor sit amet,\n",
    "consectetur adipiscing elit,\n",
    "sed do eiusmod tempor incididunt\n",
    "ut labore et dolore magna aliqua.\"\"\"\n",
    "print(a)"
   ]
  },
  {
   "cell_type": "code",
   "execution_count": 15,
   "id": "d54ee0fa-ae34-404d-8c8c-4c8f06ea4452",
   "metadata": {},
   "outputs": [
    {
     "name": "stdout",
     "output_type": "stream",
     "text": [
      "o\n",
      "r\n",
      "a\n",
      "n\n",
      "g\n",
      "e\n"
     ]
    }
   ],
   "source": [
    "#Looping Through a String\n",
    "#Since strings are arrays, we can loop through the characters in a string, with a for loop.\n",
    "\n",
    "#Example\n",
    "\n",
    "for x in \"orange\":\n",
    "  print(x)"
   ]
  },
  {
   "cell_type": "code",
   "execution_count": 17,
   "id": "447cf7ba-3428-477e-8864-0621ed4d54fc",
   "metadata": {},
   "outputs": [
    {
     "name": "stdout",
     "output_type": "stream",
     "text": [
      "12\n"
     ]
    }
   ],
   "source": [
    "#string Length\n",
    "#To get the length of a string, use the len() function.\n",
    "\n",
    "#Example\n",
    "\n",
    "a = \"Hello,World!\"\n",
    "print(len(a))"
   ]
  },
  {
   "cell_type": "code",
   "execution_count": 16,
   "id": "56662aa7-ee3c-4fc8-9344-f2b8857b47de",
   "metadata": {},
   "outputs": [
    {
     "data": {
      "text/plain": [
       "True"
      ]
     },
     "execution_count": 16,
     "metadata": {},
     "output_type": "execute_result"
    }
   ],
   "source": [
    "#Check String\n",
    "#To check if a certain phrase or character is present in a string, we can use the keyword in.\n",
    "\n",
    "#Example\n",
    "\n",
    "txt = \"The best things in life are free!\"\n",
    "\"free\" in txt"
   ]
  },
  {
   "cell_type": "code",
   "execution_count": 18,
   "id": "4b9484b7-efd8-40d1-ba60-94a78e73c704",
   "metadata": {},
   "outputs": [
    {
     "name": "stdout",
     "output_type": "stream",
     "text": [
      "Yes, 'free' is present.\n"
     ]
    }
   ],
   "source": [
    "# Use if statement:\n",
    "\n",
    "#Example\n",
    "\n",
    "txt = \"The best things in life are free!\"\n",
    "if \"free\" in txt:\n",
    "  print(\"Yes, 'free' is present.\")\n"
   ]
  },
  {
   "cell_type": "code",
   "execution_count": 19,
   "id": "e511a514-41a8-4604-a266-a71647a621a0",
   "metadata": {},
   "outputs": [
    {
     "name": "stdout",
     "output_type": "stream",
     "text": [
      "True\n"
     ]
    }
   ],
   "source": [
    "#Check if NOT\n",
    "#To check if a certain phrase or character is NOT present in a string, we can use the keyword not in.\n",
    "\n",
    "#Example\n",
    "\n",
    "txt = \"The best things in life are free!\"\n",
    "print(\"expensive\" not in txt)\n"
   ]
  },
  {
   "cell_type": "code",
   "execution_count": 20,
   "id": "8db6ae35-22e7-4a43-a7f1-24d6683d7ba6",
   "metadata": {},
   "outputs": [
    {
     "name": "stdout",
     "output_type": "stream",
     "text": [
      "No, 'expensive' is NOT present.\n"
     ]
    }
   ],
   "source": [
    "# Use if statement:\n",
    "\n",
    "#Example\n",
    "\n",
    "txt = \"The best things in life are free!\"\n",
    "if \"expensive\" not in txt:\n",
    "  print(\"No, 'expensive' is NOT present.\")"
   ]
  }
 ],
 "metadata": {
  "kernelspec": {
   "display_name": "Python 3 (ipykernel)",
   "language": "python",
   "name": "python3"
  },
  "language_info": {
   "codemirror_mode": {
    "name": "ipython",
    "version": 3
   },
   "file_extension": ".py",
   "mimetype": "text/x-python",
   "name": "python",
   "nbconvert_exporter": "python",
   "pygments_lexer": "ipython3",
   "version": "3.11.7"
  }
 },
 "nbformat": 4,
 "nbformat_minor": 5
}
