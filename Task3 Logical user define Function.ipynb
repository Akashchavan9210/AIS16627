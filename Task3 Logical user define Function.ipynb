{
 "cells": [
  {
   "cell_type": "code",
   "execution_count": 1,
   "id": "cbb7bc9b-f882-4e4e-9011-8b5b5c7f8c81",
   "metadata": {},
   "outputs": [
    {
     "name": "stdin",
     "output_type": "stream",
     "text": [
      "Enter a number:  3\n"
     ]
    },
    {
     "name": "stdout",
     "output_type": "stream",
     "text": [
      "The number is Odd.\n"
     ]
    }
   ],
   "source": [
    "# Odd even\n",
    "def odd_even(num):\n",
    "    if num % 2 ==0:\n",
    "        return(\"Even\")\n",
    "    else:\n",
    "        return(\"Odd\")\n",
    "num = int(input(\"Enter a number: \"))\n",
    "print(f\"The number is {odd_even(num)}.\")"
   ]
  },
  {
   "cell_type": "code",
   "execution_count": 2,
   "id": "e4d93e89-9762-4fc4-bd3b-cc110701f0af",
   "metadata": {},
   "outputs": [
    {
     "name": "stdin",
     "output_type": "stream",
     "text": [
      "Enter a number:  63\n"
     ]
    },
    {
     "name": "stdout",
     "output_type": "stream",
     "text": [
      "The grades for score is D.\n"
     ]
    }
   ],
   "source": [
    "# Grades\n",
    "def grades(score):\n",
    "    if score >= 90:\n",
    "        return(\"A\")\n",
    "    elif score >= 80:\n",
    "        return(\"B\")\n",
    "    elif score >= 70:\n",
    "        return(\"C\")\n",
    "    elif score >=60:\n",
    "        return(\"D\")\n",
    "    else:\n",
    "        return(\"F\")\n",
    "score=float(input(\"Enter a number: \"))\n",
    "print(f\"The grades for score is {grades(score)}.\")"
   ]
  },
  {
   "cell_type": "code",
   "execution_count": 4,
   "id": "d6d98df6-cac6-404a-856a-c95a8857c4ad",
   "metadata": {},
   "outputs": [
    {
     "name": "stdin",
     "output_type": "stream",
     "text": [
      "Enter a number to calculate its factorial:  5\n"
     ]
    },
    {
     "name": "stdout",
     "output_type": "stream",
     "text": [
      "The factorial of number is: 120\n"
     ]
    }
   ],
   "source": [
    "# Factorial function: \n",
    "def fact(n):\n",
    "    if n == 0:\n",
    "       return(1)\n",
    "    else:\n",
    "       return(n * fact(n-1))\n",
    "n = int(input(\"Enter a number to calculate its factorial: \"))\n",
    "print(f\"The factorial of number is: {fact(n)}\")"
   ]
  },
  {
   "cell_type": "code",
   "execution_count": 6,
   "id": "fce17776-4695-440a-b568-2a1ea2d8841c",
   "metadata": {},
   "outputs": [
    {
     "name": "stdin",
     "output_type": "stream",
     "text": [
      "Enter number to check if it is perfect square: 9\n"
     ]
    },
    {
     "name": "stdout",
     "output_type": "stream",
     "text": [
      "n is perfect square.\n"
     ]
    }
   ],
   "source": [
    "# Perfect square\n",
    "def perfect_square(n):\n",
    "     if n < 0:\n",
    "         return(\"False\")\n",
    "     sqrt_n = int(n**0.5)\n",
    "     return sqrt_n * sqrt_n == n\n",
    "n=int(input(\"Enter number to check if it is perfect square:\"))\n",
    "if perfect_square(n):\n",
    "    print(f\"n is perfect square.\")\n",
    "else:\n",
    "    print(f\"n is not perfect square.\")"
   ]
  },
  {
   "cell_type": "code",
   "execution_count": 8,
   "id": "3afd4908-f321-4965-a3eb-d0fc1cff085c",
   "metadata": {},
   "outputs": [
    {
     "name": "stdin",
     "output_type": "stream",
     "text": [
      "Enter year to check if it is a leap year: 2004\n"
     ]
    },
    {
     "name": "stdout",
     "output_type": "stream",
     "text": [
      "2004 is a leap year.\n"
     ]
    }
   ],
   "source": [
    "# leap year\n",
    "def leap_year(year):\n",
    "    if year % 4 == 0:\n",
    "        if year % 100 == 0:\n",
    "            if year % 400 == 0:\n",
    "                return True\n",
    "            else: \n",
    "                return False\n",
    "        else:\n",
    "            return True\n",
    "    else:\n",
    "        return False\n",
    "year = int(input(\"Enter year to check if it is a leap year:\"))\n",
    "if leap_year(year):\n",
    "    print(f\"{year} is a leap year.\")\n",
    "else:\n",
    "    print(f\"{year} is not a leap year.\")"
   ]
  },
  {
   "cell_type": "code",
   "execution_count": 9,
   "id": "4a479879-f0ec-481d-9049-09685d1a1c8b",
   "metadata": {},
   "outputs": [
    {
     "name": "stdout",
     "output_type": "stream",
     "text": [
      "GCD 22 and 5 is: 1\n"
     ]
    }
   ],
   "source": [
    "# Gretest common divissor\n",
    "def gcd(a,b):\n",
    "    while b != 0:\n",
    "        a, b = b, a % b\n",
    "    return a\n",
    "a=22\n",
    "b=5\n",
    "result=gcd(a,b)\n",
    "print(\"GCD\", a, \"and\", b, \"is:\", result)"
   ]
  },
  {
   "cell_type": "code",
   "execution_count": 10,
   "id": "04c9c5fe-c07b-4c15-bbcb-eb626dbb3fc6",
   "metadata": {},
   "outputs": [
    {
     "name": "stdout",
     "output_type": "stream",
     "text": [
      "3\n"
     ]
    }
   ],
   "source": [
    "#count the number of vowels in a string\n",
    "def count_vowels(s):\n",
    "    vowels = 'aeiou'\n",
    "    return sum(1 for char in s if char in vowels)\n",
    "s = \"Hello World\"\n",
    "print(count_vowels(s))"
   ]
  },
  {
   "cell_type": "code",
   "execution_count": 11,
   "id": "2d640a7a-d712-410f-b885-d35d69e7f486",
   "metadata": {},
   "outputs": [
    {
     "name": "stdout",
     "output_type": "stream",
     "text": [
      "12\n"
     ]
    }
   ],
   "source": [
    "# least common multiple (LCM) of two numbers\n",
    "def lcm(a, b):\n",
    "    return abs(a * b) // gcd(a, b)\n",
    "a = 4\n",
    "b = 6\n",
    "print(lcm(a, b))"
   ]
  },
  {
   "cell_type": "code",
   "execution_count": 12,
   "id": "0a090990-6141-4682-b4cb-6838ebbd9485",
   "metadata": {},
   "outputs": [
    {
     "name": "stdin",
     "output_type": "stream",
     "text": [
      "Enter a number:  25\n"
     ]
    },
    {
     "name": "stdout",
     "output_type": "stream",
     "text": [
      "The number is positive.\n"
     ]
    }
   ],
   "source": [
    "# Positive number\n",
    "def positive(num):\n",
    "    return num > 0\n",
    "num = float(input(\"Enter a number: \"))\n",
    "if positive(num):\n",
    "    print(\"The number is positive.\")\n",
    "else:\n",
    "    print(\"The number is not positive.\")"
   ]
  },
  {
   "cell_type": "code",
   "execution_count": 13,
   "id": "5f90e64a-a3dc-4bf3-a34f-a064f1aa52c5",
   "metadata": {},
   "outputs": [
    {
     "name": "stdin",
     "output_type": "stream",
     "text": [
      "Enter a number:  -25\n"
     ]
    },
    {
     "name": "stdout",
     "output_type": "stream",
     "text": [
      "The number is negative.\n"
     ]
    }
   ],
   "source": [
    "# Negative number\n",
    "def negative(num):\n",
    "    return num < 0\n",
    "num = float(input(\"Enter a number: \"))\n",
    "if negative(num):\n",
    "    print(\"The number is negative.\")\n",
    "else:\n",
    "    print(\"The number is not negative.\")"
   ]
  }
 ],
 "metadata": {
  "kernelspec": {
   "display_name": "Python 3 (ipykernel)",
   "language": "python",
   "name": "python3"
  },
  "language_info": {
   "codemirror_mode": {
    "name": "ipython",
    "version": 3
   },
   "file_extension": ".py",
   "mimetype": "text/x-python",
   "name": "python",
   "nbconvert_exporter": "python",
   "pygments_lexer": "ipython3",
   "version": "3.11.7"
  }
 },
 "nbformat": 4,
 "nbformat_minor": 5
}
