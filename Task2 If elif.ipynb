{
 "cells": [
  {
   "cell_type": "code",
   "execution_count": null,
   "id": "fccb5e79-c29a-4b14-b21b-eab96c8ff27e",
   "metadata": {},
   "outputs": [],
   "source": [
    "#Elif\n",
    "#The elif keyword is Python's way of saying \"if the previous conditions were not true, then try this condition\"."
   ]
  },
  {
   "cell_type": "code",
   "execution_count": 4,
   "id": "19149eaf-8bdf-4bf9-be23-b8cb70126bf1",
   "metadata": {},
   "outputs": [
    {
     "name": "stdout",
     "output_type": "stream",
     "text": [
      "b is greater than a\n"
     ]
    }
   ],
   "source": [
    "#Example 1\n",
    "\n",
    "a = 33\n",
    "b = 33\n",
    "if b == a:\n",
    "  print(\"b is greater than a\")\n",
    "elif a == b:\n",
    "  print(\"a and b are equal\")\n"
   ]
  },
  {
   "cell_type": "code",
   "execution_count": 5,
   "id": "675e68d2-b4c3-4356-8aa2-d9764eff5419",
   "metadata": {},
   "outputs": [
    {
     "name": "stdout",
     "output_type": "stream",
     "text": [
      "a and b are equal\n"
     ]
    }
   ],
   "source": [
    "#Example 2\n",
    "\n",
    "a = 33\n",
    "b = 33\n",
    "if b > a:\n",
    "  print(\"b is greater than a\")\n",
    "elif a == b:\n",
    "  print(\"a and b are equal\")\n"
   ]
  },
  {
   "cell_type": "code",
   "execution_count": 6,
   "id": "aa977384-4c2d-4466-bbb0-4c2119b795d2",
   "metadata": {},
   "outputs": [
    {
     "name": "stdout",
     "output_type": "stream",
     "text": [
      "b is greater than a\n"
     ]
    }
   ],
   "source": [
    "#Example 3\n",
    "\n",
    "a = 33\n",
    "b = 33\n",
    "if b == a:\n",
    "  print(\"b is greater than a\")\n",
    "elif a > b:\n",
    "  print(\"a and b are equal\")\n"
   ]
  },
  {
   "cell_type": "code",
   "execution_count": 10,
   "id": "47d088ec-0674-4711-8c5d-9378463e31d8",
   "metadata": {},
   "outputs": [
    {
     "name": "stdout",
     "output_type": "stream",
     "text": [
      "y+5=35 then y=30\n"
     ]
    }
   ],
   "source": [
    "#Example 4\n",
    "\n",
    "x=25\n",
    "x+=5\n",
    "if (x==20):\n",
    "    print(\"x+5=25\")\n",
    "elif x==30:\n",
    "    print(\"y+5=35 then y=30\")"
   ]
  },
  {
   "cell_type": "code",
   "execution_count": 11,
   "id": "aa61f70e-47fe-45d8-b7b0-a442000e2328",
   "metadata": {},
   "outputs": [
    {
     "name": "stdout",
     "output_type": "stream",
     "text": [
      "x is equals to zero\n"
     ]
    }
   ],
   "source": [
    "#Example 5\n",
    "x=25\n",
    "x-=25\n",
    "if (x==0):\n",
    "    print(\"x is equals to zero\")\n",
    "elif x==30:\n",
    "    print(\"y+5=35 then y=30\")"
   ]
  },
  {
   "cell_type": "code",
   "execution_count": 16,
   "id": "7ffe5097-a579-4f9e-a7cc-2c44c3734fb9",
   "metadata": {},
   "outputs": [
    {
     "name": "stdout",
     "output_type": "stream",
     "text": [
      "a=Akash\n"
     ]
    }
   ],
   "source": [
    "#Example 6\n",
    "a=\"Akash\"\n",
    "if(a=='samir'):\n",
    "    print(\"a=Akash\")\n",
    "elif a==\"Akash\":\n",
    " print(\"a=Akash\")"
   ]
  },
  {
   "cell_type": "code",
   "execution_count": 17,
   "id": "a9df6d58-1b1b-4131-9654-29744eb87217",
   "metadata": {},
   "outputs": [
    {
     "name": "stdout",
     "output_type": "stream",
     "text": [
      "a is less then b\n"
     ]
    }
   ],
   "source": [
    "#Example 7\n",
    "b=52\n",
    "a=25\n",
    "if(\"a<=b\"):\n",
    "    print(\"a is less then b\")\n",
    "elif \"b>a\":\n",
    "    print(\"b is gretat then a\")"
   ]
  },
  {
   "cell_type": "code",
   "execution_count": 26,
   "id": "abcc593b-62aa-4ad3-82c5-8b40de47d6cf",
   "metadata": {},
   "outputs": [
    {
     "name": "stdout",
     "output_type": "stream",
     "text": [
      "a is less then b\n"
     ]
    }
   ],
   "source": [
    "#Example 8\n",
    "\n",
    "b=52\n",
    "a=25\n",
    "if(b!=a):\n",
    "    print(\"a is less then b\")\n",
    "elif b==a:\n",
    "    print(\"b equals to a\")"
   ]
  },
  {
   "cell_type": "code",
   "execution_count": 25,
   "id": "3e1ee3ee-4b83-423c-8340-5fc6803bbb7e",
   "metadata": {},
   "outputs": [
    {
     "name": "stdout",
     "output_type": "stream",
     "text": [
      "b equals to a\n"
     ]
    }
   ],
   "source": [
    "#Example 9\n",
    "\n",
    "a=52\n",
    "b=52\n",
    "if(a!=b):\n",
    "    print(\"a is less then b\")\n",
    "elif a==b:\n",
    "    print(\"b equals to a\")"
   ]
  },
  {
   "cell_type": "code",
   "execution_count": 27,
   "id": "d331eb9a-06f2-4b10-9624-df40fe19f10c",
   "metadata": {},
   "outputs": [
    {
     "name": "stdout",
     "output_type": "stream",
     "text": [
      "a is equals to 70\n"
     ]
    }
   ],
   "source": [
    "#Example 10\n",
    "a=70\n",
    "if(a==52):\n",
    "    print(\"a is equals to52\")\n",
    "elif a==70:\n",
    " print(\"a is equals to 70\")\n"
   ]
  }
 ],
 "metadata": {
  "kernelspec": {
   "display_name": "Python 3 (ipykernel)",
   "language": "python",
   "name": "python3"
  },
  "language_info": {
   "codemirror_mode": {
    "name": "ipython",
    "version": 3
   },
   "file_extension": ".py",
   "mimetype": "text/x-python",
   "name": "python",
   "nbconvert_exporter": "python",
   "pygments_lexer": "ipython3",
   "version": "3.11.7"
  }
 },
 "nbformat": 4,
 "nbformat_minor": 5
}
