{
 "cells": [
  {
   "cell_type": "markdown",
   "id": "837b8bce-e4e2-4aa2-9554-aee919209182",
   "metadata": {},
   "source": [
    "#A variable can have a short name (like x and y) \n",
    "#or a more descriptive name (age, carname, total_volume)."
   ]
  },
  {
   "cell_type": "code",
   "execution_count": null,
   "id": "28dc12cc-370b-4cf7-a54f-23cf76c638b9",
   "metadata": {},
   "outputs": [],
   "source": [
    "#Variable Naming Rules\n",
    "A variable name must start with a letter or the underscore character\n",
    "A variable name cannot start with a number\n",
    "A variable name can only contain alpha-numeric characters and underscores (A-z, 0-9, and _ )\n",
    "Variable names are case-sensitive (age, Age and AGE are three different variables)\n",
    "A variable name cannot be any of the Python keywords.\n"
   ]
  },
  {
   "cell_type": "code",
   "execution_count": 2,
   "id": "22fedfbc-4a8d-4422-bacd-d75156e29330",
   "metadata": {},
   "outputs": [
    {
     "name": "stdout",
     "output_type": "stream",
     "text": [
      "Name_of_person\n",
      "Akash\n"
     ]
    }
   ],
   "source": [
    "#Example\n",
    "x=\"Name_of_person\"\n",
    "y=\"Akash\"\n",
    "print(x)\n",
    "print(y)"
   ]
  },
  {
   "cell_type": "code",
   "execution_count": null,
   "id": "59035507-4781-4374-a993-fc4e5f5ee671",
   "metadata": {},
   "outputs": [],
   "source": [
    "#Multi Words Variable Names\n",
    "#Camel Case\n",
    "#Each word, except the first, starts with a capital letter:\n",
    "\n",
    "myVariableName = \"Akash\""
   ]
  },
  {
   "cell_type": "code",
   "execution_count": null,
   "id": "72d1ee1e-80ee-496e-9a13-750ecf6ffb77",
   "metadata": {},
   "outputs": [],
   "source": [
    "#Pascal Case\n",
    "#Each word starts with a capital letter:\n",
    "\n",
    "MyVariableName = \"Akash\""
   ]
  },
  {
   "cell_type": "code",
   "execution_count": null,
   "id": "ee4e90d2-b7b2-49eb-b571-e2da3d0a281f",
   "metadata": {},
   "outputs": [],
   "source": [
    "#Snake Case\n",
    "#Each word is separated by an underscore character:\n",
    "\n",
    "my_variable_name = \"Akash\""
   ]
  },
  {
   "cell_type": "code",
   "execution_count": 3,
   "id": "fd9ccd2f-2f5b-42db-88a6-6a2cb15e0576",
   "metadata": {},
   "outputs": [
    {
     "name": "stdout",
     "output_type": "stream",
     "text": [
      "orange\n",
      "red\n",
      "Yellow\n"
     ]
    }
   ],
   "source": [
    "#Many Values to Multiple Variables\n",
    "#Exampl\n",
    "x,y,z=\"orange\",\"red\",\"Yellow\"\n",
    "print(x)\n",
    "print(y)\n",
    "print(z)"
   ]
  }
 ],
 "metadata": {
  "kernelspec": {
   "display_name": "Python 3 (ipykernel)",
   "language": "python",
   "name": "python3"
  },
  "language_info": {
   "codemirror_mode": {
    "name": "ipython",
    "version": 3
   },
   "file_extension": ".py",
   "mimetype": "text/x-python",
   "name": "python",
   "nbconvert_exporter": "python",
   "pygments_lexer": "ipython3",
   "version": "3.11.7"
  }
 },
 "nbformat": 4,
 "nbformat_minor": 5
}
