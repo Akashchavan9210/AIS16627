{
 "cells": [
  {
   "cell_type": "markdown",
   "id": "91234cca-3f8b-4299-a657-1f6dd497e5a8",
   "metadata": {},
   "source": [
    "Continue Statement \n",
    "\n",
    "Yes, the \"continue statement\" in Python is used to skip the rest of the code inside a loop for the current iteration and proceed to the next iteration of the loop. Essentially, it allows you to skip certain iterations of a loop based on a condition."
   ]
  },
  {
   "cell_type": "code",
   "execution_count": 1,
   "id": "5f253398-e9a5-47eb-9962-f963c8df1e90",
   "metadata": {},
   "outputs": [
    {
     "name": "stdout",
     "output_type": "stream",
     "text": [
      "0\n",
      "1\n",
      "3\n",
      "4\n"
     ]
    }
   ],
   "source": [
    "#Example 1\n",
    "\n",
    "for i in range(5):\n",
    "    if i == 2:\n",
    "        continue\n",
    "    print(i)"
   ]
  },
  {
   "cell_type": "code",
   "execution_count": 2,
   "id": "eff32931-c761-4ebd-a8d3-0a7057ee9641",
   "metadata": {},
   "outputs": [
    {
     "name": "stdout",
     "output_type": "stream",
     "text": [
      "1\n",
      "2\n",
      "4\n",
      "5\n",
      "6\n",
      "7\n",
      "8\n",
      "9\n"
     ]
    }
   ],
   "source": [
    "#Example 2\n",
    "\n",
    "i = 0\n",
    "while i < 9:\n",
    "  i += 1\n",
    "  if i == 3:\n",
    "    continue\n",
    "  print(i)"
   ]
  },
  {
   "cell_type": "code",
   "execution_count": 3,
   "id": "dda3cdbd-d2bf-45f8-bee4-074c9b9689d2",
   "metadata": {},
   "outputs": [
    {
     "name": "stdout",
     "output_type": "stream",
     "text": [
      "1\n",
      "3\n",
      "5\n",
      "7\n",
      "9\n"
     ]
    }
   ],
   "source": [
    "#Example 3\n",
    "\n",
    "for i in range(1, 11):\n",
    "    if i % 2 == 0:\n",
    "        continue\n",
    "    print(i)"
   ]
  }
 ],
 "metadata": {
  "kernelspec": {
   "display_name": "Python 3 (ipykernel)",
   "language": "python",
   "name": "python3"
  },
  "language_info": {
   "codemirror_mode": {
    "name": "ipython",
    "version": 3
   },
   "file_extension": ".py",
   "mimetype": "text/x-python",
   "name": "python",
   "nbconvert_exporter": "python",
   "pygments_lexer": "ipython3",
   "version": "3.11.7"
  }
 },
 "nbformat": 4,
 "nbformat_minor": 5
}
