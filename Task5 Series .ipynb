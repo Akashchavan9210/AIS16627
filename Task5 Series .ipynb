{
 "cells": [
  {
   "cell_type": "markdown",
   "id": "b34f1d78-3e88-45b7-be0c-0e9c6b4ab147",
   "metadata": {},
   "source": [
    "What is a Series?\n",
    "A Pandas Series is like a column in a table.\n",
    "\n",
    "It is a one-dimensional array holding data of any type."
   ]
  },
  {
   "cell_type": "code",
   "execution_count": 15,
   "id": "a041c7c9-0a7a-4298-8c48-5690913520d9",
   "metadata": {},
   "outputs": [
    {
     "name": "stdout",
     "output_type": "stream",
     "text": [
      "0    1\n",
      "1    7\n",
      "2    2\n",
      "3    6\n",
      "4    3\n",
      "dtype: int64\n"
     ]
    }
   ],
   "source": [
    "#Example\n",
    "\n",
    "import pandas as pd\n",
    "a = [1, 7, 2,6,3]\n",
    "myvar = pd.Series(a)\n",
    "print(myvar)"
   ]
  },
  {
   "cell_type": "markdown",
   "id": "3a57c584-d752-4631-ae2b-d23d17516709",
   "metadata": {},
   "source": [
    "Labels\n",
    "If nothing else is specified, the values are labeled with their index number. First value has index 0, second value has index 1 etc.\n",
    "\n",
    "This label can be used to access a specified value."
   ]
  },
  {
   "cell_type": "code",
   "execution_count": 16,
   "id": "984c6017-6f8f-48d5-bff0-3a939a106561",
   "metadata": {},
   "outputs": [
    {
     "name": "stdout",
     "output_type": "stream",
     "text": [
      "6\n"
     ]
    }
   ],
   "source": [
    "#Example\n",
    "#Return the first value of the Series:\n",
    "\n",
    "print(myvar[3])"
   ]
  },
  {
   "cell_type": "markdown",
   "id": "21b37542-8dcf-452f-819e-c7fc7d4d58a5",
   "metadata": {},
   "source": [
    "Create Labels\n",
    "With the index argument, you can name your own labels.\n",
    "\n"
   ]
  },
  {
   "cell_type": "code",
   "execution_count": 20,
   "id": "233b327e-88a0-4e5c-a01c-348be1a30181",
   "metadata": {},
   "outputs": [
    {
     "name": "stdout",
     "output_type": "stream",
     "text": [
      "x    1\n",
      "y    7\n",
      "z    2\n",
      "a    6\n",
      "b    8\n",
      "dtype: int64\n"
     ]
    }
   ],
   "source": [
    "#Example\n",
    "#Create your own labels:\n",
    "\n",
    "import pandas as pd\n",
    "a = [1, 7, 2,6,8]\n",
    "myvar = pd.Series(a, index = [\"x\", \"y\", \"z\",\"a\",\"b\"])\n",
    "print(myvar)"
   ]
  },
  {
   "cell_type": "code",
   "execution_count": 22,
   "id": "56335065-d013-4f42-89f9-1dc31c503813",
   "metadata": {},
   "outputs": [
    {
     "name": "stdout",
     "output_type": "stream",
     "text": [
      "6\n"
     ]
    }
   ],
   "source": [
    "#When you have created labels, you can access an item by referring to the label.\n",
    "\n",
    "#Example\n",
    "#Return the value of \"y\":\n",
    "\n",
    "print(myvar[\"a\"])"
   ]
  },
  {
   "cell_type": "markdown",
   "id": "4b98502c-2eb1-42ec-8158-e9be9d675dfa",
   "metadata": {},
   "source": [
    "Key/Value Objects as Series\n",
    "You can also use a key/value object, like a dictionary, when creating a Series."
   ]
  },
  {
   "cell_type": "code",
   "execution_count": 6,
   "id": "adc6d38c-b66d-4c1f-a91a-8a7d073b0802",
   "metadata": {},
   "outputs": [
    {
     "name": "stdout",
     "output_type": "stream",
     "text": [
      "Day1    420\n",
      "Day2    380\n",
      "Day3    390\n",
      "Day4    400\n",
      "dtype: int64\n"
     ]
    }
   ],
   "source": [
    "#Example\n",
    "#Create a simple Pandas Series from a dictionary:\n",
    "\n",
    "import pandas as pd\n",
    "list = {\"Day1\": 420, \"Day2\": 380, \"Day3\": 390,\"Day4\":400}\n",
    "myvar = pd.Series(list)\n",
    "\n",
    "print(myvar)"
   ]
  },
  {
   "cell_type": "code",
   "execution_count": 28,
   "id": "57abe8a1-1f9c-47d5-acd9-56b8c3e771ec",
   "metadata": {},
   "outputs": [
    {
     "name": "stdout",
     "output_type": "stream",
     "text": [
      "Day1    420\n",
      "Day2    380\n",
      "dtype: int64\n"
     ]
    }
   ],
   "source": [
    "#Note: The keys of the dictionary become the labels.\n",
    "#To select only some of the items in the dictionary, use the index argument and specify only the items you want to include in the Series.\n",
    "\n",
    "#Example\n",
    "\n",
    "import pandas as pd\n",
    "calories =  {\"Day1\": 420, \"Day2\": 380, \"Day3\": 390,\"Day4\":400}\n",
    "myvar = pd.Series(calories, index = [\"Day1\", \"Day2\"])\n",
    "print(myvar)"
   ]
  },
  {
   "cell_type": "code",
   "execution_count": 30,
   "id": "35cb87de-66c5-4891-9869-648b6f5d576a",
   "metadata": {},
   "outputs": [
    {
     "name": "stdout",
     "output_type": "stream",
     "text": [
      "   calories  duration\n",
      "0       420        50\n",
      "1       380        40\n",
      "2       390        45\n",
      "3       400        55\n"
     ]
    }
   ],
   "source": [
    "#DataFrames\n",
    "#Data sets in Pandas are usually multi-dimensional tables, called DataFrames.\n",
    "#Series is like a column, a DataFrame is the whole table.\n",
    "\n",
    "#Example\n",
    "#Create a DataFrame from two Series:\n",
    "\n",
    "import pandas as pd\n",
    "data = {\n",
    "  \"calories\": [420, 380, 390,400],\n",
    "  \"duration\": [50, 40, 45,55]\n",
    "}\n",
    "myvar = pd.DataFrame(data)\n",
    "print(myvar)"
   ]
  },
  {
   "cell_type": "code",
   "execution_count": 33,
   "id": "db3dec69-5167-4523-a85a-311bdbd689c4",
   "metadata": {},
   "outputs": [
    {
     "name": "stdout",
     "output_type": "stream",
     "text": [
      "1    2\n",
      "2    3\n",
      "dtype: int64\n"
     ]
    }
   ],
   "source": [
    "#operations\n",
    "# Slicing Series\n",
    "print(s[1:3])"
   ]
  },
  {
   "cell_type": "code",
   "execution_count": 34,
   "id": "86270920-913e-4ed5-b58f-526e67d0def6",
   "metadata": {},
   "outputs": [
    {
     "name": "stdout",
     "output_type": "stream",
     "text": [
      "0    11\n",
      "1    12\n",
      "2    13\n",
      "3    14\n",
      "4    15\n",
      "dtype: int64\n",
      "0     2\n",
      "1     4\n",
      "2     6\n",
      "3     8\n",
      "4    10\n",
      "dtype: int64\n"
     ]
    }
   ],
   "source": [
    "# Arithmetic operations\n",
    "print(s + 10)\n",
    "print(s * 2)"
   ]
  },
  {
   "cell_type": "code",
   "execution_count": 35,
   "id": "4cc00166-cd4a-4702-8889-c0269d347a01",
   "metadata": {},
   "outputs": [
    {
     "name": "stdout",
     "output_type": "stream",
     "text": [
      "3.0\n",
      "5\n"
     ]
    }
   ],
   "source": [
    "# Mathematical functions\n",
    "print(s.mean())\n",
    "print(s.max())"
   ]
  },
  {
   "cell_type": "code",
   "execution_count": 36,
   "id": "2d402795-d017-48bf-ade7-2da3b17a6e5d",
   "metadata": {},
   "outputs": [
    {
     "name": "stdout",
     "output_type": "stream",
     "text": [
      "2    3\n",
      "3    4\n",
      "4    5\n",
      "dtype: int64\n"
     ]
    }
   ],
   "source": [
    "#Conditional\n",
    "\n",
    "# Selecting elements based on condition\n",
    "print(s[s > 2])"
   ]
  },
  {
   "cell_type": "code",
   "execution_count": 37,
   "id": "b6284d31-6a38-45f4-9d38-709f5293e0a7",
   "metadata": {},
   "outputs": [
    {
     "name": "stdout",
     "output_type": "stream",
     "text": [
      "0    1\n",
      "1    2\n",
      "2    3\n",
      "3    4\n",
      "4    5\n",
      "dtype: int64\n"
     ]
    }
   ],
   "source": [
    "# Sorting Series\n",
    "print(s.sort_values())"
   ]
  },
  {
   "cell_type": "code",
   "execution_count": 38,
   "id": "ba147eb7-4909-4681-a1e8-345f0f8a586c",
   "metadata": {},
   "outputs": [
    {
     "name": "stdout",
     "output_type": "stream",
     "text": [
      "0    1.0\n",
      "1    2.0\n",
      "3    4.0\n",
      "4    5.0\n",
      "dtype: float64\n"
     ]
    }
   ],
   "source": [
    "# Handling missing data\n",
    "s_with_na = pd.Series([1, 2, None, 4, 5])\n",
    "print(s_with_na.dropna())  # Drop NaN values"
   ]
  },
  {
   "cell_type": "code",
   "execution_count": 39,
   "id": "8dde7d4f-a818-4bd1-878c-e4b969b34df1",
   "metadata": {},
   "outputs": [
    {
     "name": "stdout",
     "output_type": "stream",
     "text": [
      "0     1\n",
      "1     4\n",
      "2     9\n",
      "3    16\n",
      "4    25\n",
      "dtype: int64\n"
     ]
    }
   ],
   "source": [
    "# Applying functions\n",
    "print(s.apply(lambda x: x ** 2))"
   ]
  }
 ],
 "metadata": {
  "kernelspec": {
   "display_name": "Python 3 (ipykernel)",
   "language": "python",
   "name": "python3"
  },
  "language_info": {
   "codemirror_mode": {
    "name": "ipython",
    "version": 3
   },
   "file_extension": ".py",
   "mimetype": "text/x-python",
   "name": "python",
   "nbconvert_exporter": "python",
   "pygments_lexer": "ipython3",
   "version": "3.11.7"
  }
 },
 "nbformat": 4,
 "nbformat_minor": 5
}
