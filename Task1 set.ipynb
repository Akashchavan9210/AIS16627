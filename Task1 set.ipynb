{
 "cells": [
  {
   "cell_type": "code",
   "execution_count": 2,
   "id": "289a32dd-7041-476a-9e13-6050920dc973",
   "metadata": {},
   "outputs": [
    {
     "name": "stdout",
     "output_type": "stream",
     "text": [
      "{'banana', 'cherry', 'apple'}\n"
     ]
    }
   ],
   "source": [
    "#Set\n",
    "#Sets are used to store multiple items in a single variable.\n",
    "#Set is one of 4 built-in data types in Python used to store collections of data, the other 3 are List, Tuple, and Dictionary, all with different qualities and usage.\n",
    "#A set is a collection which is unordered, unchangeable*, and unindexed.\n",
    "\n",
    "#Note: Set items are unchangeable, but you can remove items and add new items.\n",
    "#Example\n",
    "\n",
    "thisset = {\"apple\", \"banana\", \"cherry\"}\n",
    "print(thisset)"
   ]
  },
  {
   "cell_type": "code",
   "execution_count": 3,
   "id": "7b3c634f-b4f5-4c60-8983-44932e678c16",
   "metadata": {},
   "outputs": [
    {
     "name": "stdout",
     "output_type": "stream",
     "text": [
      "{'banana', 'cherry', 'apple'}\n"
     ]
    }
   ],
   "source": [
    "#Set Items\n",
    "#Set items are unordered, unchangeable, and do not allow duplicate values.\n",
    "\n",
    "#Unordered\n",
    "#Unordered means that the items in a set do not have a defined order.\n",
    "\n",
    "#Set items can appear in a different order every time you use them, and cannot be referred to by index or key.\n",
    "\n",
    "#Unchangeable\n",
    "#Set items are unchangeable, meaning that we cannot change the items after the set has been created.\n",
    "\n",
    "#Duplicates Not Allowed\n",
    "#Sets cannot have two items with the same value.\n",
    "\n",
    "#Example\n",
    "\n",
    "thisset = {\"apple\", \"banana\", \"cherry\", \"apple\"}\n",
    "print(thisset)"
   ]
  },
  {
   "cell_type": "code",
   "execution_count": 4,
   "id": "f74656a9-c345-4f2c-a3d6-44c9386794db",
   "metadata": {},
   "outputs": [
    {
     "name": "stdout",
     "output_type": "stream",
     "text": [
      "{True, 2, 'cherry', 'apple', 'banana'}\n"
     ]
    }
   ],
   "source": [
    "#The values True and 1 are considered the same value in sets, and are treated as duplicates:\n",
    "\n",
    "#Example\n",
    "#True and 1 is considered the same value:\n",
    "\n",
    "thisset = {\"apple\", \"banana\", \"cherry\", True, 1, 2}\n",
    "\n",
    "print(thisset)"
   ]
  },
  {
   "cell_type": "code",
   "execution_count": 5,
   "id": "2ce4b490-afbc-4293-9112-c7981df99542",
   "metadata": {},
   "outputs": [
    {
     "name": "stdout",
     "output_type": "stream",
     "text": [
      "{False, True, 'cherry', 'apple', 'banana'}\n"
     ]
    }
   ],
   "source": [
    "#The values False and 0 are considered the same value in sets, and are treated as duplicates:\n",
    "\n",
    "#Example\n",
    "#False and 0 is considered the same value:\n",
    "\n",
    "thisset = {\"apple\", \"banana\", \"cherry\", False, True, 0}\n",
    "\n",
    "print(thisset)"
   ]
  },
  {
   "cell_type": "code",
   "execution_count": 1,
   "id": "a460ad0b-b332-483a-90f3-56411ba436a1",
   "metadata": {},
   "outputs": [
    {
     "data": {
      "text/plain": [
       "3"
      ]
     },
     "execution_count": 1,
     "metadata": {},
     "output_type": "execute_result"
    }
   ],
   "source": [
    "#Get the Length of a Set\n",
    "#To determine how many items a set has, use the len() function.\n",
    "\n",
    "#Example\n",
    "\n",
    "myset = {\"apple\", \"banana\", \"cherry\"}\n",
    "len(myset)"
   ]
  },
  {
   "cell_type": "code",
   "execution_count": 9,
   "id": "9634187a-b1d2-446a-8e04-e71e28d9015d",
   "metadata": {},
   "outputs": [],
   "source": [
    "#Set items can be of any data type:\n",
    "\n",
    "#Example\n",
    "#String, int and boolean data types:\n",
    "\n",
    "set1 = {\"apple\", \"banana\", \"cherry\"}\n",
    "set2 = {1, 5, 7, 9, 3}\n",
    "set3 = {True, False, False}"
   ]
  },
  {
   "cell_type": "code",
   "execution_count": 10,
   "id": "4370943a-5ab8-4650-a95e-4b24923e0a55",
   "metadata": {},
   "outputs": [],
   "source": [
    "#A set can contain different data types:\n",
    "\n",
    "#Example\n",
    "#A set with strings, integers and boolean values:\n",
    "\n",
    "set1 = {\"abc\", 34, True, 40, \"male\"}"
   ]
  },
  {
   "cell_type": "code",
   "execution_count": 2,
   "id": "08248891-ae59-4ee5-9cc3-dd1114600b34",
   "metadata": {},
   "outputs": [
    {
     "data": {
      "text/plain": [
       "set"
      ]
     },
     "execution_count": 2,
     "metadata": {},
     "output_type": "execute_result"
    }
   ],
   "source": [
    "#What is the data type of a set?\n",
    "#Example\n",
    "\n",
    "myset = {\"apple\", \"banana\", \"cherry\"}\n",
    "type(myset)"
   ]
  },
  {
   "cell_type": "code",
   "execution_count": 3,
   "id": "30df8d50-4094-4115-ae2b-9607d919f77f",
   "metadata": {},
   "outputs": [
    {
     "name": "stdout",
     "output_type": "stream",
     "text": [
      "{'apple', 'banana', 'cherry'}\n"
     ]
    }
   ],
   "source": [
    "#Using the set() constructor to make a set:\n",
    "#Example\n",
    "\n",
    "myset=set((\"apple\", \"banana\", \"cherry\")) # note the double round-brackets\n",
    "print(myset)"
   ]
  }
 ],
 "metadata": {
  "kernelspec": {
   "display_name": "Python 3 (ipykernel)",
   "language": "python",
   "name": "python3"
  },
  "language_info": {
   "codemirror_mode": {
    "name": "ipython",
    "version": 3
   },
   "file_extension": ".py",
   "mimetype": "text/x-python",
   "name": "python",
   "nbconvert_exporter": "python",
   "pygments_lexer": "ipython3",
   "version": "3.11.7"
  }
 },
 "nbformat": 4,
 "nbformat_minor": 5
}
