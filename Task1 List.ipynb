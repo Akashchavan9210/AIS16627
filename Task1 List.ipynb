{
 "cells": [
  {
   "cell_type": "code",
   "execution_count": 1,
   "id": "1ea9c1e8-2d87-4c1f-ab8b-f1e5ff0324cb",
   "metadata": {},
   "outputs": [
    {
     "name": "stdout",
     "output_type": "stream",
     "text": [
      "['apple', 'banana', 'cherry']\n"
     ]
    }
   ],
   "source": [
    "#List\n",
    "#Lists are used to store multiple items in a single variable.\n",
    "#Lists are one of 4 built-in data types in Python used to store collections of data, the other 3 are Tuple, Set, and Dictionary, all with different qualities and usage.\n",
    "#Lists are created using square brackets:\n",
    "#ExampleGet your own Python Server\n",
    "\n",
    "#Create a List:\n",
    "\n",
    "thislist = [\"apple\", \"banana\", \"cherry\"]\n",
    "print(thislist)"
   ]
  },
  {
   "cell_type": "code",
   "execution_count": 2,
   "id": "a93cae26-5bfd-474c-9910-578fec0a7f77",
   "metadata": {},
   "outputs": [
    {
     "name": "stdout",
     "output_type": "stream",
     "text": [
      "['apple', 'banana', 'cherry', 'apple', 'cherry']\n"
     ]
    }
   ],
   "source": [
    "#List Items\n",
    "#List items are ordered, changeable, and allow duplicate values.\n",
    "#List items are indexed, the first item has index [0], the second item has index [1] etc.\n",
    "\n",
    "#Ordered\n",
    "#When we say that lists are ordered, it means that the items have a defined order, and that order will not change.\n",
    "#If you add new items to a list, the new items will be placed at the end of the list.\n",
    "\n",
    "#Note: There are some list methods that will change the order, but in general: the order of the items will not change.\n",
    "#Changeable\n",
    "#The list is changeable, meaning that we can change, add, and remove items in a list after it has been created.\n",
    "\n",
    "#Allow Duplicates\n",
    "#Since lists are indexed, lists can have items with the same value:\n",
    "\n",
    "#Example\n",
    "#Lists allow duplicate values:\n",
    "\n",
    "thislist = [\"apple\", \"banana\", \"cherry\", \"apple\", \"cherry\"]\n",
    "print(thislist)"
   ]
  },
  {
   "cell_type": "code",
   "execution_count": 3,
   "id": "d634c0dc-a348-4d31-a1e0-cc1f9dd96d61",
   "metadata": {},
   "outputs": [
    {
     "name": "stdout",
     "output_type": "stream",
     "text": [
      "3\n"
     ]
    }
   ],
   "source": [
    "#To determine how many items a list has, use the len() function:\n",
    "\n",
    "#Example\n",
    "#Print the number of items in the list:\n",
    "\n",
    "thislist = [\"apple\", \"banana\", \"cherry\"]\n",
    "print(len(thislist))"
   ]
  },
  {
   "cell_type": "code",
   "execution_count": null,
   "id": "4e9d7907-a796-4e57-ae64-03ed85aa09ac",
   "metadata": {},
   "outputs": [],
   "source": [
    "#List items can be of any data type:\n",
    "\n",
    "#Example\n",
    "#String, int and boolean data types:\n",
    "\n",
    "list1 = [\"apple\", \"banana\", \"cherry\"]\n",
    "list2 = [1, 5, 7, 9, 3]\n",
    "list3 = [True, False, False]"
   ]
  },
  {
   "cell_type": "code",
   "execution_count": null,
   "id": "5c794277-61a3-4422-b24f-c23283884b5d",
   "metadata": {},
   "outputs": [],
   "source": [
    "#A list can contain different data types:\n",
    "\n",
    "#Example\n",
    "#A list with strings, integers and boolean values:\n",
    "\n",
    "list1 = [\"abc\", 34, True, 40, \"male\"]"
   ]
  },
  {
   "cell_type": "code",
   "execution_count": null,
   "id": "9140f31d-e1c1-47fe-aefa-3d15bb4a9fe4",
   "metadata": {},
   "outputs": [],
   "source": [
    "#What is the data type of a list?\n",
    "#Example\n",
    "\n",
    "mylist = [\"apple\", \"banana\", \"cherry\"]\n",
    "print(type(mylist))"
   ]
  },
  {
   "cell_type": "code",
   "execution_count": 4,
   "id": "9c1f5654-c3c6-424d-93e0-00a770f1513a",
   "metadata": {},
   "outputs": [
    {
     "name": "stdout",
     "output_type": "stream",
     "text": [
      "['apple', 'banana', 'cherry']\n"
     ]
    }
   ],
   "source": [
    "#It is also possible to use the list() constructor when creating a new list.\n",
    "\n",
    "#Example\n",
    "\n",
    "thislist = list((\"apple\", \"banana\", \"cherry\")) # note the double round-brackets\n",
    "print(thislist)"
   ]
  }
 ],
 "metadata": {
  "kernelspec": {
   "display_name": "Python 3 (ipykernel)",
   "language": "python",
   "name": "python3"
  },
  "language_info": {
   "codemirror_mode": {
    "name": "ipython",
    "version": 3
   },
   "file_extension": ".py",
   "mimetype": "text/x-python",
   "name": "python",
   "nbconvert_exporter": "python",
   "pygments_lexer": "ipython3",
   "version": "3.11.7"
  }
 },
 "nbformat": 4,
 "nbformat_minor": 5
}
