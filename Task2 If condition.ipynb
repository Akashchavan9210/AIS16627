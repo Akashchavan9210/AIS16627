{
 "cells": [
  {
   "cell_type": "code",
   "execution_count": null,
   "id": "6e25b262-b946-4578-943b-cd83eb55a6e5",
   "metadata": {},
   "outputs": [],
   "source": [
    "#Python supports the usual logical conditions from mathematics:\n",
    "\n",
    "#Equals: a == b\n",
    "#Not Equals: a != b\n",
    "#Less than: a < b\n",
    "#Less than or equal to: a <= b\n",
    "#Greater than: a > b\n",
    "#Greater than or equal to: a >= b"
   ]
  },
  {
   "cell_type": "code",
   "execution_count": null,
   "id": "0136344e-70f1-4d52-954b-b6d94f8bd6f5",
   "metadata": {},
   "outputs": [],
   "source": [
    "#These conditions can be used in several ways, most commonly in \"if statements\" and loops.\n",
    "#An \"if statement\" is written by using the if keyword."
   ]
  },
  {
   "cell_type": "code",
   "execution_count": 1,
   "id": "55f961f1-e095-41f9-8d13-8379e392fc3c",
   "metadata": {},
   "outputs": [
    {
     "name": "stdout",
     "output_type": "stream",
     "text": [
      "b is greater than a\n"
     ]
    }
   ],
   "source": [
    "#Example\n",
    "\n",
    "#Example 1\n",
    "a = 33\n",
    "b = 200\n",
    "if (b > a):\n",
    "  print(\"b is greater than a\")"
   ]
  },
  {
   "cell_type": "code",
   "execution_count": 3,
   "id": "45a64105-fbb6-4e54-afb5-126c2e269524",
   "metadata": {},
   "outputs": [
    {
     "name": "stdout",
     "output_type": "stream",
     "text": [
      "a is equal to b\n"
     ]
    }
   ],
   "source": [
    "#Example 2\n",
    "a=33\n",
    "b=33\n",
    "if (a==b):\n",
    " print(\"a is equal to b\")"
   ]
  },
  {
   "cell_type": "code",
   "execution_count": 8,
   "id": "38282093-1b94-4e9d-8c57-879cff4f86b9",
   "metadata": {},
   "outputs": [
    {
     "name": "stdout",
     "output_type": "stream",
     "text": [
      "a is not equal to b\n"
     ]
    }
   ],
   "source": [
    "#Example 3\n",
    "a=1\n",
    "b=2\n",
    "if (a != b):\n",
    " print(\"a is not equal to b\")"
   ]
  },
  {
   "cell_type": "code",
   "execution_count": 13,
   "id": "878eb63e-955e-4874-b296-d4dec0c36553",
   "metadata": {},
   "outputs": [
    {
     "name": "stdout",
     "output_type": "stream",
     "text": [
      "Then x is les then y\n"
     ]
    }
   ],
   "source": [
    "#Example 4\n",
    "x=5\n",
    "y=15\n",
    "if(x<y):\n",
    " print(\"Then x is les then y\")"
   ]
  },
  {
   "cell_type": "code",
   "execution_count": 18,
   "id": "d52f278f-62d2-4441-ac21-9f281b6f7001",
   "metadata": {},
   "outputs": [
    {
     "name": "stdout",
     "output_type": "stream",
     "text": [
      "my name is Akash\n"
     ]
    }
   ],
   "source": [
    "#Example 5\n",
    "a=\"Akash\"\n",
    "if(a==\"Akash\"):\n",
    "    print(\"my name is Akash\")"
   ]
  },
  {
   "cell_type": "code",
   "execution_count": 22,
   "id": "0caf4f61-9cdd-4939-8de2-50055cf54b28",
   "metadata": {},
   "outputs": [
    {
     "name": "stdout",
     "output_type": "stream",
     "text": [
      "True\n"
     ]
    }
   ],
   "source": [
    "#Example 6\n",
    "a=5\n",
    "b=4\n",
    "if(a>=b):\n",
    " print(\"True\")"
   ]
  },
  {
   "cell_type": "code",
   "execution_count": 24,
   "id": "fe04a4d2-366c-45bc-89b4-d9eb76b82f79",
   "metadata": {},
   "outputs": [
    {
     "name": "stdout",
     "output_type": "stream",
     "text": [
      "T\n"
     ]
    }
   ],
   "source": [
    "#Example 7\n",
    "a=85\n",
    "b=85\n",
    "if(a<=b):\n",
    "    print(\"T\")"
   ]
  },
  {
   "cell_type": "code",
   "execution_count": 27,
   "id": "95e14284-ad2a-4346-bd1e-75339ad54075",
   "metadata": {},
   "outputs": [
    {
     "name": "stdout",
     "output_type": "stream",
     "text": [
      "X is equals to 55\n"
     ]
    }
   ],
   "source": [
    "#Example 8\n",
    "x=50\n",
    "x+=5\n",
    "if (x==55):\n",
    "    print(\"X is equals to 55\")"
   ]
  },
  {
   "cell_type": "code",
   "execution_count": 28,
   "id": "2ebbfbf2-6394-4661-abf0-5c94b2bad569",
   "metadata": {},
   "outputs": [
    {
     "name": "stdout",
     "output_type": "stream",
     "text": [
      "value are 0\n"
     ]
    }
   ],
   "source": [
    "#Example 9\n",
    "a=5\n",
    "b=5\n",
    "if(a-b==0):\n",
    "    print(\"value are 0\")\n"
   ]
  },
  {
   "cell_type": "code",
   "execution_count": 30,
   "id": "489540a7-4687-473f-bac8-8cd3eb018389",
   "metadata": {},
   "outputs": [
    {
     "name": "stdout",
     "output_type": "stream",
     "text": [
      "a+b=40\n"
     ]
    }
   ],
   "source": [
    "#Example 10\n",
    "a=15\n",
    "b=25\n",
    "if(a+b==40):\n",
    "    print(\"a+b=40\")"
   ]
  }
 ],
 "metadata": {
  "kernelspec": {
   "display_name": "Python 3 (ipykernel)",
   "language": "python",
   "name": "python3"
  },
  "language_info": {
   "codemirror_mode": {
    "name": "ipython",
    "version": 3
   },
   "file_extension": ".py",
   "mimetype": "text/x-python",
   "name": "python",
   "nbconvert_exporter": "python",
   "pygments_lexer": "ipython3",
   "version": "3.11.7"
  }
 },
 "nbformat": 4,
 "nbformat_minor": 5
}
