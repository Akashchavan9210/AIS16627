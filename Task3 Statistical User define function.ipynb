{
 "cells": [
  {
   "cell_type": "code",
   "execution_count": 1,
   "id": "6828a17f-1f6b-4756-aea6-46c2ae0ffab9",
   "metadata": {},
   "outputs": [
    {
     "name": "stdout",
     "output_type": "stream",
     "text": [
      "The mean is: 5.75\n"
     ]
    }
   ],
   "source": [
    "# Mean\n",
    "def cal_mean(l):\n",
    "    if len(l)==0:\n",
    "       return(0)\n",
    "    mean=sum(l)/len(l)\n",
    "    return(mean)\n",
    "l=[4,5,6,8]\n",
    "mean=cal_mean(l)\n",
    "print(\"The mean is:\",mean)"
   ]
  },
  {
   "cell_type": "code",
   "execution_count": 2,
   "id": "f8619c3b-8df1-42d8-bce5-6ed1e5407d36",
   "metadata": {},
   "outputs": [
    {
     "name": "stdout",
     "output_type": "stream",
     "text": [
      "Median: 3.5\n"
     ]
    }
   ],
   "source": [
    "# Median\n",
    "def median(l):\n",
    "    s_n = sorted(l)\n",
    "    n = len(s_n)\n",
    "    if n % 2 == 0:\n",
    "        # If the number of elements is even, take the average of the middle two numbers\n",
    "        middle_left = s_n[n // 2 - 1]\n",
    "        middle_right = s_n[n // 2]\n",
    "        return (middle_left + middle_right) / 2\n",
    "    else:\n",
    "        # If the number of elements is odd, return the middle number\n",
    "        return sorted_numbers[n // 2]\n",
    "l = [5, 2, 8, 4, 1, 3]\n",
    "print(\"Median:\", median(l))"
   ]
  },
  {
   "cell_type": "code",
   "execution_count": 4,
   "id": "86b9c9cd-bb48-47c4-a63f-1d60ecadfea2",
   "metadata": {},
   "outputs": [
    {
     "name": "stdout",
     "output_type": "stream",
     "text": [
      "Mode: [2]\n"
     ]
    }
   ],
   "source": [
    "# Mode\n",
    "def cal_mode(l):\n",
    "    counts = {}\n",
    "    for num in l:\n",
    "        if num in counts:\n",
    "            counts[num] += 1\n",
    "        else:\n",
    "            counts[num] = 1\n",
    "    \n",
    "    max_count = max(counts.values())\n",
    "    mode = [num for num, count in counts.items() if count == max_count]\n",
    "    \n",
    "    return mode\n",
    "\n",
    "l = [1, 2, 3, 4, 2, 2, 3, 4, 5]\n",
    "mode = cal_mode(l)\n",
    "print(\"Mode:\", mode)"
   ]
  },
  {
   "cell_type": "code",
   "execution_count": 5,
   "id": "0d00e6ed-1348-4cef-8961-8242ab7c8cd6",
   "metadata": {},
   "outputs": [
    {
     "name": "stdout",
     "output_type": "stream",
     "text": [
      "Range: 73\n"
     ]
    }
   ],
   "source": [
    "# Range\n",
    "def cal_range(l):\n",
    "    min_value=min(l)\n",
    "    max_value=max(l)\n",
    "    return max_value - min_value\n",
    "l=[12,45,74,85,35,65]\n",
    "range=cal_range(l)\n",
    "print(\"Range:\",range)"
   ]
  },
  {
   "cell_type": "code",
   "execution_count": 6,
   "id": "0c123513-e333-4913-ac41-e947ebbf03e1",
   "metadata": {},
   "outputs": [
    {
     "name": "stdout",
     "output_type": "stream",
     "text": [
      "Var: 2.1875\n"
     ]
    }
   ],
   "source": [
    "# Variance\n",
    "def cal_variance(l):\n",
    "    if len(l)==0:\n",
    "       return(0)\n",
    "    mean=sum(l)/len(l)\n",
    "    s=[(x-mean)**2 for x in l]\n",
    "    var=sum(s)/len(l)\n",
    "    return(var)\n",
    "l=[4,5,6,8]\n",
    "var=cal_variance(l)\n",
    "print(\"Var:\",var)"
   ]
  },
  {
   "cell_type": "code",
   "execution_count": 7,
   "id": "4ae9881d-0cb5-4717-ae66-fc5cd45b2909",
   "metadata": {},
   "outputs": [
    {
     "name": "stdout",
     "output_type": "stream",
     "text": [
      "Sd: 1.479019945774904\n"
     ]
    }
   ],
   "source": [
    "# Standard deviation\n",
    "def cal_sd(l):\n",
    "    if len(l)==0:\n",
    "       return(0)\n",
    "    mean=sum(l)/len(l)\n",
    "    s=[(x-mean)**2 for x in l]\n",
    "    var=sum(s)/len(l)\n",
    "    sd=var**0.5\n",
    "    return(sd)\n",
    "l=[4,5,6,8]\n",
    "sd=cal_sd(l)\n",
    "print(\"Sd:\",sd)"
   ]
  }
 ],
 "metadata": {
  "kernelspec": {
   "display_name": "Python 3 (ipykernel)",
   "language": "python",
   "name": "python3"
  },
  "language_info": {
   "codemirror_mode": {
    "name": "ipython",
    "version": 3
   },
   "file_extension": ".py",
   "mimetype": "text/x-python",
   "name": "python",
   "nbconvert_exporter": "python",
   "pygments_lexer": "ipython3",
   "version": "3.11.7"
  }
 },
 "nbformat": 4,
 "nbformat_minor": 5
}
