{
 "cells": [
  {
   "cell_type": "markdown",
   "id": "81b286b6-51df-4c8f-af4a-68d86eb19dae",
   "metadata": {},
   "source": [
    "break Statment\n",
    "\n",
    "In Python, the break statement is used to exit a loop prematurely.\n",
    "It can be used within for loops, while loops, or nested loops. \n",
    "When a break statement is encountered, the loop immediately terminates, \n",
    "and the program continues executing the code after the loop."
   ]
  },
  {
   "cell_type": "code",
   "execution_count": 1,
   "id": "989652de-3942-4290-803d-a8ffb10a7ee2",
   "metadata": {},
   "outputs": [
    {
     "name": "stdout",
     "output_type": "stream",
     "text": [
      "0\n",
      "1\n",
      "2\n"
     ]
    }
   ],
   "source": [
    "#Example 1\n",
    "for i in range(5):\n",
    "    if i == 3:\n",
    "        break\n",
    "    print(i)"
   ]
  },
  {
   "cell_type": "code",
   "execution_count": 3,
   "id": "b5176b33-67a8-41ba-852a-f84c4479722c",
   "metadata": {},
   "outputs": [
    {
     "name": "stdout",
     "output_type": "stream",
     "text": [
      "1\n",
      "2\n",
      "3\n",
      "4\n",
      "5\n"
     ]
    }
   ],
   "source": [
    "#Example 2\n",
    "\n",
    "numbers = [1, 2, 3, 4, 5, 6, 7, 8, 9, 10]\n",
    "for num in numbers:\n",
    "    print(num)\n",
    "    if num == 5:\n",
    "        break"
   ]
  },
  {
   "cell_type": "code",
   "execution_count": 4,
   "id": "7bbbfd93-5eb3-43d8-8454-88b5cf557ab9",
   "metadata": {},
   "outputs": [
    {
     "name": "stdout",
     "output_type": "stream",
     "text": [
      "Processing number: 1\n",
      "Processing number: 2\n",
      "Number 3 found!\n"
     ]
    }
   ],
   "source": [
    "#Example 3\n",
    "\n",
    "# Example 3: Breaking out of a loop when encountering a specific condition\n",
    "numbers = [1, 2, 3, 4, 5]\n",
    "for num in numbers:\n",
    "    if num == 3:\n",
    "        print(\"Number 3 found!\")\n",
    "        break\n",
    "    print(\"Processing number:\", num)"
   ]
  }
 ],
 "metadata": {
  "kernelspec": {
   "display_name": "Python 3 (ipykernel)",
   "language": "python",
   "name": "python3"
  },
  "language_info": {
   "codemirror_mode": {
    "name": "ipython",
    "version": 3
   },
   "file_extension": ".py",
   "mimetype": "text/x-python",
   "name": "python",
   "nbconvert_exporter": "python",
   "pygments_lexer": "ipython3",
   "version": "3.11.7"
  }
 },
 "nbformat": 4,
 "nbformat_minor": 5
}
