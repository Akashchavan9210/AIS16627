{
 "cells": [
  {
   "cell_type": "markdown",
   "id": "48bc3a24-b517-4ce4-8c26-eee408d3e577",
   "metadata": {},
   "source": [
    "Pass Statment\n",
    "In Python, the pass statement is a null operation. It doesn't do anything when it is executed. It's often used as a placeholder where syntactically a statement is required, but no action needs to be taken."
   ]
  },
  {
   "cell_type": "code",
   "execution_count": 4,
   "id": "ab7a8892-76e8-435f-b840-737940b35103",
   "metadata": {},
   "outputs": [],
   "source": [
    "#Example 1\n",
    "\n",
    "#Using the pass keyword in a function definition:\n",
    "\n",
    "def myfunction():\n",
    "  pass"
   ]
  },
  {
   "cell_type": "code",
   "execution_count": 5,
   "id": "3e69f964-5876-44b3-a59a-0b078977a5e8",
   "metadata": {},
   "outputs": [],
   "source": [
    "#Example 2\n",
    "#Using the pass keyword in a class definition:\n",
    "\n",
    "class Person:\n",
    "  pass"
   ]
  },
  {
   "cell_type": "code",
   "execution_count": 6,
   "id": "892b76ca-e983-41d6-9788-3810f8291313",
   "metadata": {},
   "outputs": [],
   "source": [
    "#Example 3\n",
    "#Using the pass keyword in an if statement:\n",
    "\n",
    "a = 33\n",
    "b = 200\n",
    "\n",
    "if b > a:\n",
    "  pass"
   ]
  }
 ],
 "metadata": {
  "kernelspec": {
   "display_name": "Python 3 (ipykernel)",
   "language": "python",
   "name": "python3"
  },
  "language_info": {
   "codemirror_mode": {
    "name": "ipython",
    "version": 3
   },
   "file_extension": ".py",
   "mimetype": "text/x-python",
   "name": "python",
   "nbconvert_exporter": "python",
   "pygments_lexer": "ipython3",
   "version": "3.11.7"
  }
 },
 "nbformat": 4,
 "nbformat_minor": 5
}
