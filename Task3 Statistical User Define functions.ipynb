{
 "cells": [
  {
   "cell_type": "markdown",
   "id": "395e9cbe-735f-4813-b006-2638992de536",
   "metadata": {},
   "source": [
    "Mean\r\n",
    "The mean is usually referred to as 'the average'.\r\n",
    "\r\n",
    "The mean is the sum of all the values in the data divided by the total number of values in the data.\r\n",
    "\r\n",
    "The mean is calculated for numerical variables. A variable is something in the data that can vary, Age,Height,Incomelt\r\n",
    "Income"
   ]
  },
  {
   "cell_type": "code",
   "execution_count": 23,
   "id": "8ee6b0c8-e299-42fe-be39-defd650aeebc",
   "metadata": {},
   "outputs": [
    {
     "name": "stdout",
     "output_type": "stream",
     "text": [
      "9.0\n"
     ]
    }
   ],
   "source": [
    "#Example1\n",
    "import numpy\n",
    "\n",
    "values = [4,11,7,14]\n",
    "x = numpy.mean(values)\n",
    "print(x)"
   ]
  },
  {
   "cell_type": "markdown",
   "id": "ae16e212-cf4a-4295-a9a8-87217db9c252",
   "metadata": {},
   "source": [
    "Median\n",
    "\n",
    "The median is a type of average value, which describes where the center of the data is located.\r",
    "The median is the middle value in a data set ordered from low to high.\r\n",
    "\n",
    "\r\n"
   ]
  },
  {
   "cell_type": "code",
   "execution_count": 22,
   "id": "411cc394-b359-4665-b339-a14e5361a52b",
   "metadata": {},
   "outputs": [
    {
     "name": "stdout",
     "output_type": "stream",
     "text": [
      "41.0\n"
     ]
    }
   ],
   "source": [
    "#Example2\n",
    "import numpy\n",
    "\n",
    "values = [13,21,21,40,42,48,55,72]\n",
    "\n",
    "x = numpy.median(values)\n",
    "\n",
    "print(x)"
   ]
  },
  {
   "cell_type": "markdown",
   "id": "c984672a-ff4c-49b7-bead-e15762fee498",
   "metadata": {},
   "source": [
    "Mode\r\n",
    "The mode is the value(s) that are the most common in the data.\r\n",
    "\r\n",
    "A dataset can have multiple values that are modes.\r\n",
    "\r\n",
    "A distribution of values with only one mode is called unimodal.\r\n",
    "\r\n",
    "A distribution of values with two modes is called bimodal. In general, a distribution with more than one mode is called multimodal.\r\n",
    "\r\n",
    "Mode can be found for both categorical and numerical data."
   ]
  },
  {
   "cell_type": "code",
   "execution_count": 20,
   "id": "b4f04739-41dc-47b3-beae-c058c3ca01b9",
   "metadata": {},
   "outputs": [
    {
     "name": "stdout",
     "output_type": "stream",
     "text": [
      "[11, 12]\n"
     ]
    }
   ],
   "source": [
    "#Example3\n",
    "\n",
    "from statistics import multimode\n",
    "\n",
    "values = [4,7,3,8,11,11,10,19,6,9,12,12]\n",
    "\n",
    "x = multimode(values)\n",
    "\n",
    "print(x)\n"
   ]
  },
  {
   "cell_type": "markdown",
   "id": "d8d6e351-cee0-4d0b-96ed-58dc4ff95721",
   "metadata": {},
   "source": [
    "Range\r\n",
    "The range is the difference between the smallest and the largest value of the data.\r\n",
    "\r\n",
    "Range is the simplest measure of variation.\r\n",
    "\r\n",
    "Here is a histogram of the age of all 934 Nobel Prize winners up to the year 2020, showing the rge:\r\n",
    "\r\n",
    "rical data."
   ]
  },
  {
   "cell_type": "code",
   "execution_count": 21,
   "id": "8d7cce39-58b8-43a5-b7ee-c057377cb0d3",
   "metadata": {},
   "outputs": [
    {
     "name": "stdout",
     "output_type": "stream",
     "text": [
      "59\n"
     ]
    }
   ],
   "source": [
    " #Example4\n",
    "import numpy\n",
    "\n",
    "values = [13,21,21,40,48,55,72]\n",
    "\n",
    "x = numpy.ptp(values)\n",
    "\n",
    "print(x)"
   ]
  },
  {
   "cell_type": "markdown",
   "id": "e69d10a6-954e-4d0e-8cae-6442b8d8d0bc",
   "metadata": {},
   "source": [
    "Quartiles\n",
    "\n",
    "Quartiles and percentiles are measures of variation, which describes how spread out the data is.\r",
    "\r\n",
    "Quartiles and percentiles are both types of quantilesles\r\n",
    "Quartiles are values that separate the data into four equal parts."
   ]
  },
  {
   "cell_type": "code",
   "execution_count": 19,
   "id": "f29c96ff-79b6-4efb-a1f0-daadc62c3d9a",
   "metadata": {},
   "outputs": [
    {
     "name": "stdout",
     "output_type": "stream",
     "text": [
      "[13.   21.   41.   49.75 72.  ]\n"
     ]
    }
   ],
   "source": [
    "#Example5\n",
    "\n",
    "import numpy\n",
    "\n",
    "values = [13,21,21,40,42,48,55,72]\n",
    "\n",
    "x = numpy.quantile(values, [0,0.25,0.5,0.75,1])\n",
    "\n",
    "print(x)"
   ]
  },
  {
   "cell_type": "markdown",
   "id": "7820da2c-75cd-4fdc-bf2b-9b0809358153",
   "metadata": {},
   "source": [
    "Interquartile Range\n",
    "\n",
    "Interquartile range is the difference between the first and third quartiles (Q1 and Q3).\n",
    "The 'middle half' of the data is between the first and third quartile."
   ]
  },
  {
   "cell_type": "code",
   "execution_count": 18,
   "id": "f3064e62-3647-4c2b-8312-012842ea94a8",
   "metadata": {},
   "outputs": [
    {
     "name": "stdout",
     "output_type": "stream",
     "text": [
      "28.75\n"
     ]
    }
   ],
   "source": [
    "#Example6\n",
    "\n",
    "from scipy import stats\n",
    "\n",
    "values = [13,21,21,40,42,48,55,72]\n",
    "\n",
    "x = stats.iqr(values)\n",
    "\n",
    "print(x)"
   ]
  },
  {
   "cell_type": "markdown",
   "id": "6fa481a7-8ce5-4628-8094-1407fb32a41a",
   "metadata": {},
   "source": [
    "Percentiles\r\n",
    "Percentiles are values that separate the data into 100 equal parts."
   ]
  },
  {
   "cell_type": "code",
   "execution_count": 17,
   "id": "adf60cdd-2e9f-4f48-8bc3-39ca37435d58",
   "metadata": {},
   "outputs": [
    {
     "name": "stdout",
     "output_type": "stream",
     "text": [
      "45.3\n"
     ]
    }
   ],
   "source": [
    "#Example7\n",
    "\n",
    "import numpy\n",
    "values = [13,21,21,40,42,48,55,72]\n",
    "x = numpy.percentile(values, 65)\n",
    "print(x)"
   ]
  },
  {
   "cell_type": "markdown",
   "id": "9751e436-e83d-4abc-b948-ee52e07c40a0",
   "metadata": {},
   "source": [
    "Standard Deviation\r\n",
    "Standard deviation (σ) measures how far a 'typical' observation is from the average of the data (μ).\r\n",
    "\r\n",
    "Standard deviation is important for many statistical methods."
   ]
  },
  {
   "cell_type": "code",
   "execution_count": 24,
   "id": "3f9dcbfb-0069-4ac3-b6bc-0c0133361d64",
   "metadata": {},
   "outputs": [
    {
     "name": "stdout",
     "output_type": "stream",
     "text": [
      "3.8078865529319543\n"
     ]
    }
   ],
   "source": [
    "#Example8\n",
    "\n",
    "import numpy\n",
    "values = [4,11,7,14]\n",
    "x = numpy.std(values)\n",
    "print(x)"
   ]
  },
  {
   "cell_type": "code",
   "execution_count": 25,
   "id": "1f45aaad-50eb-4290-b118-9618d0d8d817",
   "metadata": {},
   "outputs": [
    {
     "name": "stdout",
     "output_type": "stream",
     "text": [
      "3.8078865529319543\n"
     ]
    }
   ],
   "source": [
    "#Population Standard Deviation\n",
    "#ExampleGet your own Python Server\n",
    "#With Python use the NumPy library std() method to find the standard deviation of the values 4,11,7,14:\n",
    "\n",
    "#Example9\n",
    "import numpy\n",
    "\n",
    "values = [4,11,7,14]\n",
    "\n",
    "x = numpy.std(values)\n",
    "\n",
    "print(x)"
   ]
  },
  {
   "cell_type": "code",
   "execution_count": 27,
   "id": "c06cf899-fe62-49d4-b14f-35c627d3072e",
   "metadata": {},
   "outputs": [
    {
     "name": "stdout",
     "output_type": "stream",
     "text": [
      "4.396968652757639\n"
     ]
    }
   ],
   "source": [
    "#Sample Standard Deviation\n",
    "#With Python use the NumPy library std() method to find the sample standard deviation of the values 4,11,7,14:\n",
    "\n",
    "#Example10\n",
    "import numpy\n",
    "\n",
    "values = [4,11,7,14]\n",
    "\n",
    "x = numpy.std(values, ddof=1)\n",
    "\n",
    "print(x)"
   ]
  }
 ],
 "metadata": {
  "kernelspec": {
   "display_name": "Python 3 (ipykernel)",
   "language": "python",
   "name": "python3"
  },
  "language_info": {
   "codemirror_mode": {
    "name": "ipython",
    "version": 3
   },
   "file_extension": ".py",
   "mimetype": "text/x-python",
   "name": "python",
   "nbconvert_exporter": "python",
   "pygments_lexer": "ipython3",
   "version": "3.11.7"
  }
 },
 "nbformat": 4,
 "nbformat_minor": 5
}
