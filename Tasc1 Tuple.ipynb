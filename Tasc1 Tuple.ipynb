{
 "cells": [
  {
   "cell_type": "code",
   "execution_count": 2,
   "id": "10f183a1-da15-4051-8d3c-58fa1afbd5fd",
   "metadata": {},
   "outputs": [
    {
     "name": "stdout",
     "output_type": "stream",
     "text": [
      "('apple', 'banana', 'cherry')\n"
     ]
    }
   ],
   "source": [
    "#Python Tuples\n",
    "#Tuples are used to store multiple items in a single variable.\n",
    "#Tuple is one of 4 built-in data types in Python used to store collections of data, the other 3 are List, Set, and Dictionary, all with different qualities and usage.\n",
    "#A tuple is a collection which is ordered and unchangeable.\n",
    "#Tuples are written with round brackets.\n",
    "\n",
    "#Example\n",
    "\n",
    "tuple = (\"apple\", \"banana\", \"cherry\")\n",
    "print(tuple)"
   ]
  },
  {
   "cell_type": "code",
   "execution_count": 3,
   "id": "f50bfbe6-d6e1-4fa0-b638-66402e5248e3",
   "metadata": {},
   "outputs": [
    {
     "name": "stdout",
     "output_type": "stream",
     "text": [
      "('apple', 'banana', 'cherry', 'apple', 'cherry')\n"
     ]
    }
   ],
   "source": [
    "#Tuple Items\n",
    "#Tuple items are ordered, unchangeable, and allow duplicate values.\n",
    "\n",
    "#allow duplicate values.\n",
    "tuple = (\"apple\", \"banana\", \"cherry\", \"apple\", \"cherry\")\n",
    "print(tuple)"
   ]
  },
  {
   "cell_type": "code",
   "execution_count": 6,
   "id": "1f2d879c-dae1-4f02-940b-10a6a9a65a48",
   "metadata": {},
   "outputs": [
    {
     "data": {
      "text/plain": [
       "3"
      ]
     },
     "execution_count": 6,
     "metadata": {},
     "output_type": "execute_result"
    }
   ],
   "source": [
    "#Tuple Length\n",
    "#To determine how many items a tuple has, use the len() function:\n",
    "\n",
    "#Example\n",
    "\n",
    "tuple = (\"apple\", \"banana\", \"cherry\")\n",
    "len(tuple)"
   ]
  },
  {
   "cell_type": "code",
   "execution_count": 7,
   "id": "100b64a0-d9c2-4444-9ba8-208d6811f870",
   "metadata": {},
   "outputs": [
    {
     "name": "stdout",
     "output_type": "stream",
     "text": [
      "<class 'tuple'>\n",
      "<class 'str'>\n"
     ]
    }
   ],
   "source": [
    "#Create Tuple With One Item\n",
    "#To create a tuple with only one item, you have to add a comma after the item, otherwise Python will not recognize it as a tuple.\n",
    "\n",
    "#Example\n",
    "\n",
    "thistuple = (\"apple\",)\n",
    "print(type(thistuple))\n",
    "\n",
    "#NOT a tuple\n",
    "thistuple = (\"apple\")\n",
    "print(type(thistuple))"
   ]
  },
  {
   "cell_type": "code",
   "execution_count": 8,
   "id": "bd738ad6-11d0-456d-b17d-a435443d9027",
   "metadata": {},
   "outputs": [],
   "source": [
    "#Tuple Items - Data Types\n",
    "#Tuple items can be of any data type:\n",
    "\n",
    "#Example\n",
    "\n",
    "tuple1 = (\"apple\", \"banana\", \"cherry\")\n",
    "tuple2 = (1, 5, 7, 9, 3)\n",
    "tuple3 = (True, False, False)"
   ]
  },
  {
   "cell_type": "code",
   "execution_count": null,
   "id": "6b412c11-06fe-4179-92cd-7120227230c2",
   "metadata": {},
   "outputs": [],
   "source": [
    "#A tuple can contain different data types:\n",
    "\n",
    "#Example\n",
    "#A tuple with strings, integers and boolean values:\n",
    "\n",
    "tuple1 = (\"abc\", 34, True, 40, \"male\")"
   ]
  },
  {
   "cell_type": "code",
   "execution_count": 9,
   "id": "2a054b2e-c3f3-4c7e-8c84-49764b8fb024",
   "metadata": {},
   "outputs": [
    {
     "data": {
      "text/plain": [
       "tuple"
      ]
     },
     "execution_count": 9,
     "metadata": {},
     "output_type": "execute_result"
    }
   ],
   "source": [
    "#type()\n",
    "#From Python's perspective, tuples are defined as objects with the data type 'tuple':\n",
    "\n",
    "mytuple = (\"apple\", \"banana\", \"cherry\")\n",
    "type(mytuple)\n"
   ]
  },
  {
   "cell_type": "code",
   "execution_count": 12,
   "id": "a7862fba-3a9c-423a-870b-c809acae2a3a",
   "metadata": {},
   "outputs": [
    {
     "ename": "TypeError",
     "evalue": "'tuple' object is not callable",
     "output_type": "error",
     "traceback": [
      "\u001b[1;31m---------------------------------------------------------------------------\u001b[0m",
      "\u001b[1;31mTypeError\u001b[0m                                 Traceback (most recent call last)",
      "Cell \u001b[1;32mIn[12], line 6\u001b[0m\n\u001b[0;32m      1\u001b[0m \u001b[38;5;66;03m#The tuple() Constructor\u001b[39;00m\n\u001b[0;32m      2\u001b[0m \u001b[38;5;66;03m#It is also possible to use the tuple() constructor to make a tuple.\u001b[39;00m\n\u001b[0;32m      3\u001b[0m \n\u001b[0;32m      4\u001b[0m \u001b[38;5;66;03m#Example\u001b[39;00m\n\u001b[1;32m----> 6\u001b[0m thistuple \u001b[38;5;241m=\u001b[39m \u001b[38;5;28mtuple\u001b[39m((\u001b[38;5;124m\"\u001b[39m\u001b[38;5;124mapple\u001b[39m\u001b[38;5;124m\"\u001b[39m, \u001b[38;5;124m\"\u001b[39m\u001b[38;5;124mbanana\u001b[39m\u001b[38;5;124m\"\u001b[39m, \u001b[38;5;124m\"\u001b[39m\u001b[38;5;124mcherry\u001b[39m\u001b[38;5;124m\"\u001b[39m)) \u001b[38;5;66;03m# note the double round-brackets\u001b[39;00m\n\u001b[0;32m      7\u001b[0m \u001b[38;5;28mprint\u001b[39m(thistuple)\n",
      "\u001b[1;31mTypeError\u001b[0m: 'tuple' object is not callable"
     ]
    }
   ],
   "source": [
    "#The tuple() Constructor\n",
    "#It is also possible to use the tuple() constructor to make a tuple.\n",
    "\n",
    "#Example\n",
    "\n",
    "thistuple = tuple((\"apple\", \"banana\", \"cherry\")) # note the double round-brackets\n",
    "print(thistuple)"
   ]
  }
 ],
 "metadata": {
  "kernelspec": {
   "display_name": "Python 3 (ipykernel)",
   "language": "python",
   "name": "python3"
  },
  "language_info": {
   "codemirror_mode": {
    "name": "ipython",
    "version": 3
   },
   "file_extension": ".py",
   "mimetype": "text/x-python",
   "name": "python",
   "nbconvert_exporter": "python",
   "pygments_lexer": "ipython3",
   "version": "3.11.7"
  }
 },
 "nbformat": 4,
 "nbformat_minor": 5
}
